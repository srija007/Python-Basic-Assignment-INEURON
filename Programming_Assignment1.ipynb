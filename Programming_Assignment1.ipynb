{
 "cells": [
  {
   "cell_type": "markdown",
   "id": "98b7211e",
   "metadata": {},
   "source": [
    "## 1. Write a Python program to print &quot;Hello Python&quot;?"
   ]
  },
  {
   "cell_type": "code",
   "execution_count": 1,
   "id": "05ef7639",
   "metadata": {},
   "outputs": [
    {
     "name": "stdout",
     "output_type": "stream",
     "text": [
      "Hello Python\n"
     ]
    }
   ],
   "source": [
    "print(\"Hello Python\")"
   ]
  },
  {
   "cell_type": "markdown",
   "id": "19f92514",
   "metadata": {},
   "source": [
    "## 2. Write a Python program to do arithmetical operations addition and division.?"
   ]
  },
  {
   "cell_type": "markdown",
   "id": "bb8ce72a",
   "metadata": {},
   "source": [
    "a = int(input(\"Enter the number: \"))\n",
    "b = int(input(\"Enter the second Number: \"))\n",
    "c = a + b\n",
    "e = a/b\n",
    "print(f\"The addition of the two given number {c}\")\n",
    "print(f\"The addition of the two given number {e}\")\n"
   ]
  },
  {
   "cell_type": "markdown",
   "id": "f6b6195e",
   "metadata": {},
   "source": [
    "## 3. Write a Python program to find the area of a triangle?"
   ]
  },
  {
   "cell_type": "code",
   "execution_count": 5,
   "id": "36ec612b",
   "metadata": {},
   "outputs": [
    {
     "name": "stdout",
     "output_type": "stream",
     "text": [
      "Enter the base of the traingle: 3.6\n",
      "Enter the heaight of the traingle: 5\n",
      "The area of the traingle is 9.0\n"
     ]
    }
   ],
   "source": [
    "base = float(input(\"Enter the base of the traingle: \"))\n",
    "height = float(input(\"Enter the heaight of the traingle: \"))\n",
    "Area = base * height / 2\n",
    "print(f\"The area of the traingle is {Area}\")"
   ]
  },
  {
   "cell_type": "markdown",
   "id": "e3c19646",
   "metadata": {},
   "source": [
    "## 4.  Write a Python program to swap two variables?"
   ]
  },
  {
   "cell_type": "code",
   "execution_count": 6,
   "id": "65fc883f",
   "metadata": {},
   "outputs": [
    {
     "name": "stdout",
     "output_type": "stream",
     "text": [
      "The value of x is 50\n",
      "The value of y is 30\n"
     ]
    }
   ],
   "source": [
    "x = 30\n",
    "y = 50\n",
    "temp = x\n",
    "x  = y\n",
    "y = temp\n",
    "print(f\"The value of x is {x}\")\n",
    "print(f\"The value of y is {y}\")"
   ]
  },
  {
   "cell_type": "markdown",
   "id": "6b895bf0",
   "metadata": {},
   "source": [
    "## 5. Write a Python program to generate a random number?"
   ]
  },
  {
   "cell_type": "code",
   "execution_count": 7,
   "id": "694f9e9a",
   "metadata": {},
   "outputs": [
    {
     "name": "stdout",
     "output_type": "stream",
     "text": [
      "2\n"
     ]
    }
   ],
   "source": [
    "import random\n",
    "\n",
    "print(random.randint(0,20))"
   ]
  },
  {
   "cell_type": "code",
   "execution_count": null,
   "id": "b94052e9",
   "metadata": {},
   "outputs": [],
   "source": []
  }
 ],
 "metadata": {
  "kernelspec": {
   "display_name": "Python 3 (ipykernel)",
   "language": "python",
   "name": "python3"
  },
  "language_info": {
   "codemirror_mode": {
    "name": "ipython",
    "version": 3
   },
   "file_extension": ".py",
   "mimetype": "text/x-python",
   "name": "python",
   "nbconvert_exporter": "python",
   "pygments_lexer": "ipython3",
   "version": "3.9.13"
  }
 },
 "nbformat": 4,
 "nbformat_minor": 5
}
