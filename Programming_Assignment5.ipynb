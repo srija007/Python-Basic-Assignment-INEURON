{
 "cells": [
  {
   "cell_type": "markdown",
   "id": "5a866fb6",
   "metadata": {},
   "source": [
    "## Write a Python Program to Find LCM?"
   ]
  },
  {
   "cell_type": "code",
   "execution_count": 2,
   "id": "90be5a4e",
   "metadata": {},
   "outputs": [
    {
     "name": "stdout",
     "output_type": "stream",
     "text": [
      "Enter the first number 12\n",
      "Enter the second number 20\n",
      "The LCM of the two given number is 60\n"
     ]
    }
   ],
   "source": [
    "import math\n",
    "Num1 = int(input (\"Enter the first number \"))\n",
    "Num2 = int(input (\"Enter the second number \"))\n",
    "Lcm_num = math.lcm(Num1,Num2)\n",
    "print(f\"The LCM of the two given number is {Lcm_num}\")"
   ]
  },
  {
   "cell_type": "markdown",
   "id": "19073cce",
   "metadata": {},
   "source": [
    "### Using function "
   ]
  },
  {
   "cell_type": "code",
   "execution_count": 15,
   "id": "0f2ed770",
   "metadata": {},
   "outputs": [],
   "source": [
    "def find_lcm(a,b):\n",
    "    if a> b:\n",
    "        greater = a\n",
    "    else:\n",
    "        greater = b\n",
    "    while(True):\n",
    "        if ((greater%a == 0 ) and (greater %b == 0)):\n",
    "            lcm = greater\n",
    "            break\n",
    "            greater = greater +1\n",
    "    return lcm        "
   ]
  },
  {
   "cell_type": "code",
   "execution_count": 16,
   "id": "beb9a0c3",
   "metadata": {},
   "outputs": [
    {
     "data": {
      "text/plain": [
       "24"
      ]
     },
     "execution_count": 16,
     "metadata": {},
     "output_type": "execute_result"
    }
   ],
   "source": [
    "find_lcm(12,24)"
   ]
  },
  {
   "cell_type": "markdown",
   "id": "044a6249",
   "metadata": {},
   "source": [
    "## Write a Python Program to Find HCF?"
   ]
  },
  {
   "cell_type": "code",
   "execution_count": 10,
   "id": "d47c33cc",
   "metadata": {},
   "outputs": [
    {
     "name": "stdout",
     "output_type": "stream",
     "text": [
      "Enter the first Number: 12\n",
      "Enter the second Number: 24\n",
      "12\n"
     ]
    }
   ],
   "source": [
    "x = int(input(\"Enter the first Number: \"))\n",
    "y = int(input(\"Enter the second Number: \"))\n",
    "num = min(x,y)\n",
    "\n",
    "hcf = 0\n",
    "for i in range(1,num+1):\n",
    "    if x%i == 0 and y%i == 0:\n",
    "        hcf = i\n",
    "        \n",
    "print(hcf)"
   ]
  },
  {
   "cell_type": "code",
   "execution_count": 20,
   "id": "756d54e8",
   "metadata": {},
   "outputs": [],
   "source": [
    "def find_hcf(a,b):\n",
    "    if a> b:\n",
    "        smaller = b\n",
    "    else:\n",
    "        smaller = a\n",
    "    hcf = 0\n",
    "    for i in range(1,smaller+1):\n",
    "        if x%i == 0 and y%i == 0:\n",
    "            hcf = i\n",
    "    return hcf        "
   ]
  },
  {
   "cell_type": "code",
   "execution_count": 21,
   "id": "69b2efaa",
   "metadata": {},
   "outputs": [
    {
     "data": {
      "text/plain": [
       "12"
      ]
     },
     "execution_count": 21,
     "metadata": {},
     "output_type": "execute_result"
    }
   ],
   "source": [
    "find_hcf(12,24)"
   ]
  },
  {
   "cell_type": "markdown",
   "id": "d7bf494e",
   "metadata": {},
   "source": [
    "## Write a Python Program to Convert Decimal to Binary, Octal and Hexadecimal?"
   ]
  },
  {
   "cell_type": "code",
   "execution_count": 45,
   "id": "52714a9f",
   "metadata": {},
   "outputs": [],
   "source": [
    "def decimalto_bin(num):\n",
    "    if num>=1:\n",
    "        decimalto_bin (num//2)\n",
    "    print( num%2,end = \"\")"
   ]
  },
  {
   "cell_type": "code",
   "execution_count": 46,
   "id": "a5b78998",
   "metadata": {},
   "outputs": [
    {
     "name": "stdout",
     "output_type": "stream",
     "text": [
      "010111"
     ]
    }
   ],
   "source": [
    "decimalto_bin(23)"
   ]
  },
  {
   "cell_type": "code",
   "execution_count": 55,
   "id": "8e4234de",
   "metadata": {},
   "outputs": [],
   "source": [
    "def decimalto_octal(num):\n",
    "    if num>=1:\n",
    "        decimalto_octal(num//8)\n",
    "    print( num%8,end = \"\")"
   ]
  },
  {
   "cell_type": "code",
   "execution_count": 56,
   "id": "18e5c56a",
   "metadata": {},
   "outputs": [
    {
     "name": "stdout",
     "output_type": "stream",
     "text": [
      "0234"
     ]
    }
   ],
   "source": [
    "decimalto_octal(156)"
   ]
  },
  {
   "cell_type": "code",
   "execution_count": null,
   "id": "73dc2d44",
   "metadata": {},
   "outputs": [],
   "source": []
  }
 ],
 "metadata": {
  "kernelspec": {
   "display_name": "Python 3 (ipykernel)",
   "language": "python",
   "name": "python3"
  },
  "language_info": {
   "codemirror_mode": {
    "name": "ipython",
    "version": 3
   },
   "file_extension": ".py",
   "mimetype": "text/x-python",
   "name": "python",
   "nbconvert_exporter": "python",
   "pygments_lexer": "ipython3",
   "version": "3.9.12"
  }
 },
 "nbformat": 4,
 "nbformat_minor": 5
}
