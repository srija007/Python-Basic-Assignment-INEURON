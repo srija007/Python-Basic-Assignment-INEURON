{
 "cells": [
  {
   "cell_type": "markdown",
   "id": "68ba2d67",
   "metadata": {},
   "source": [
    "## Write a Python Program to Find the Factorial of a Number?"
   ]
  },
  {
   "cell_type": "code",
   "execution_count": 5,
   "id": "ba6d8353",
   "metadata": {},
   "outputs": [
    {
     "name": "stdout",
     "output_type": "stream",
     "text": [
      "Enter the number: -9\n",
      "-9 is the negative number\n"
     ]
    }
   ],
   "source": [
    "num = int(input(\"Enter the number: \"))\n",
    "if num<0:\n",
    "    print(f\"{num} is the negative number\")\n",
    "elif num == 0:\n",
    "    print(f\"The factorial of {num} is zero\")\n",
    "else:\n",
    "    for i in range(1,num+1):\n",
    "        num = num*i\n",
    "    print(f\"The factorial of given number is {num}\")   "
   ]
  },
  {
   "cell_type": "markdown",
   "id": "9d88f110",
   "metadata": {},
   "source": [
    "## Write a Python Program to Display the multiplication Table?"
   ]
  },
  {
   "cell_type": "code",
   "execution_count": 9,
   "id": "7e8bc6c0",
   "metadata": {},
   "outputs": [
    {
     "name": "stdout",
     "output_type": "stream",
     "text": [
      "Enter the number: 12\n",
      "12 x 1 = 12\n",
      "12 x 2 = 24\n",
      "12 x 3 = 36\n",
      "12 x 4 = 48\n",
      "12 x 5 = 60\n",
      "12 x 6 = 72\n",
      "12 x 7 = 84\n",
      "12 x 8 = 96\n",
      "12 x 9 = 108\n",
      "12 x 10 = 120\n"
     ]
    }
   ],
   "source": [
    "num = int(input(\"Enter the number: \"))\n",
    "for i in range(1,11):\n",
    "    print(f\"{num} x {i} = {num * i}\")    "
   ]
  },
  {
   "cell_type": "markdown",
   "id": "b56816b3",
   "metadata": {},
   "source": [
    "## Write a Python Program to Print the Fibonacci sequence?"
   ]
  },
  {
   "cell_type": "code",
   "execution_count": 28,
   "id": "6ea13dc3",
   "metadata": {},
   "outputs": [
    {
     "name": "stdout",
     "output_type": "stream",
     "text": [
      "Enter the Range: 10\n",
      "0\n",
      "1\n",
      "1\n",
      "2\n",
      "3\n",
      "5\n",
      "8\n",
      "13\n",
      "21\n",
      "34\n"
     ]
    }
   ],
   "source": [
    "num = int(input(\"Enter the Range: \"))\n",
    "\n",
    "n1,n2 = 0,1\n",
    "for i in range(0,num):\n",
    "    if (i<= 1):\n",
    "           n3= i\n",
    "   \n",
    "    else:\n",
    "        n3 = n1+n2\n",
    "        n1=n2\n",
    "        n2 =n3\n",
    "    print(n3)\n",
    "   \n",
    "    "
   ]
  },
  {
   "cell_type": "markdown",
   "id": "8b095e2e",
   "metadata": {},
   "source": [
    "## Write a Python Program to Check Armstrong Number?"
   ]
  },
  {
   "cell_type": "code",
   "execution_count": 33,
   "id": "57fb7597",
   "metadata": {},
   "outputs": [
    {
     "name": "stdout",
     "output_type": "stream",
     "text": [
      "Enter the Number: 153\n",
      "The given number 153 is armstrong number\n"
     ]
    }
   ],
   "source": [
    "num = int(input(\"Enter the Number: \"))\n",
    "temp = num\n",
    "digit = len(str(num))\n",
    "sum1 = 0\n",
    "while temp != 0:\n",
    "    r = temp %10\n",
    "    sum1 = sum1+(r**digit)\n",
    "    temp = temp//10\n",
    "if num == sum1:\n",
    "    print(f\"The given number {num} is armstrong number\")\n",
    "else:\n",
    "    print(f\"The given number {num} is not armstrong number\")"
   ]
  },
  {
   "cell_type": "markdown",
   "id": "3b4bfeb0",
   "metadata": {},
   "source": [
    "## Write a Python Program to Find Armstrong Number in an Interval?"
   ]
  },
  {
   "cell_type": "code",
   "execution_count": 37,
   "id": "f518e051",
   "metadata": {},
   "outputs": [
    {
     "name": "stdout",
     "output_type": "stream",
     "text": [
      "Enter the first range: 100\n",
      "Enter the upper range: 2000\n",
      "the armstrong numbers are: \n",
      "153\n",
      "370\n",
      "371\n",
      "407\n",
      "1634\n"
     ]
    }
   ],
   "source": [
    "lower = int(input(\"Enter the first range: \"))\n",
    "upper = int(input(\"Enter the upper range: \"))\n",
    "print(\"the armstrong numbers are: \")\n",
    "for num in range (lower,upper+1):\n",
    "    digit = len(str(num))\n",
    "    sum1 = 0\n",
    "    temp = num\n",
    "    \n",
    "    while temp > 0:\n",
    "        r = temp%10\n",
    "        sum1 = sum1 + r**digit\n",
    "        temp = temp//10\n",
    "    if num == sum1:\n",
    "        print(num)\n",
    "\n",
    "        \n"
   ]
  },
  {
   "cell_type": "markdown",
   "id": "77126f8a",
   "metadata": {},
   "source": [
    "## Write a Python Program to Find the Sum of Natural Numbers?"
   ]
  },
  {
   "cell_type": "code",
   "execution_count": 15,
   "id": "796c535c",
   "metadata": {},
   "outputs": [
    {
     "name": "stdout",
     "output_type": "stream",
     "text": [
      "Enter the num: 16\n",
      "136\n"
     ]
    }
   ],
   "source": [
    "num = int(input(\"Enter the num: \"))\n",
    "Sum = 0\n",
    "for n in range (1,num+1):\n",
    "    Sum  = Sum + n\n",
    "print(Sum)"
   ]
  },
  {
   "cell_type": "code",
   "execution_count": null,
   "id": "42b8f52d",
   "metadata": {},
   "outputs": [],
   "source": []
  },
  {
   "cell_type": "code",
   "execution_count": null,
   "id": "fc95f5b5",
   "metadata": {},
   "outputs": [],
   "source": []
  }
 ],
 "metadata": {
  "kernelspec": {
   "display_name": "Python 3 (ipykernel)",
   "language": "python",
   "name": "python3"
  },
  "language_info": {
   "codemirror_mode": {
    "name": "ipython",
    "version": 3
   },
   "file_extension": ".py",
   "mimetype": "text/x-python",
   "name": "python",
   "nbconvert_exporter": "python",
   "pygments_lexer": "ipython3",
   "version": "3.9.12"
  }
 },
 "nbformat": 4,
 "nbformat_minor": 5
}
