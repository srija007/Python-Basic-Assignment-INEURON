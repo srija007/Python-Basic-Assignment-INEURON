{
 "cells": [
  {
   "cell_type": "markdown",
   "id": "549329ed",
   "metadata": {},
   "source": [
    "## 1.\tWrite a Python program to convert kilometers to miles?"
   ]
  },
  {
   "cell_type": "code",
   "execution_count": 6,
   "id": "416aa3be",
   "metadata": {},
   "outputs": [
    {
     "name": "stdout",
     "output_type": "stream",
     "text": [
      "Enter the value in Km: 3.5\n",
      "The value after conversation 2.17 miles\n"
     ]
    }
   ],
   "source": [
    "value = float(input(\"Enter the value in Km: \"))\n",
    "# 1km = 0.621371\n",
    "output = value * 0.621371\n",
    "print(f\"The value after conversation {output:.2f} miles\")"
   ]
  },
  {
   "cell_type": "markdown",
   "id": "bcc6adda",
   "metadata": {},
   "source": [
    "## 2.\tWrite a Python program to convert Celsius to Fahrenheit?"
   ]
  },
  {
   "cell_type": "code",
   "execution_count": 9,
   "id": "0456cd58",
   "metadata": {},
   "outputs": [
    {
     "name": "stdout",
     "output_type": "stream",
     "text": [
      "Enter the temparature: 54\n",
      "Farenheit value of the given temparature 129.2F\n"
     ]
    }
   ],
   "source": [
    "celsius = float(input(\"Enter the temparature: \"))\n",
    "#converting the value\n",
    "fahrenheit = (celsius * 1.8) + 32\n",
    "print(f\"Farenheit value of the given temparature {fahrenheit}F\")"
   ]
  },
  {
   "cell_type": "markdown",
   "id": "1d06845f",
   "metadata": {},
   "source": [
    "## 3.\tWrite a Python program to display calendar?"
   ]
  },
  {
   "cell_type": "code",
   "execution_count": 12,
   "id": "65c59b48",
   "metadata": {},
   "outputs": [
    {
     "name": "stdout",
     "output_type": "stream",
     "text": [
      "Enter the Year: 2019\n",
      "Enter the month: 03\n",
      "     March 2019\n",
      "Mo Tu We Th Fr Sa Su\n",
      "             1  2  3\n",
      " 4  5  6  7  8  9 10\n",
      "11 12 13 14 15 16 17\n",
      "18 19 20 21 22 23 24\n",
      "25 26 27 28 29 30 31\n",
      "\n"
     ]
    }
   ],
   "source": [
    "import calendar\n",
    "yy = int(input(\"Enter the Year: \"))\n",
    "mm = int(input(\"Enter the month: \"))\n",
    "print(calendar.month(yy,mm))"
   ]
  },
  {
   "cell_type": "markdown",
   "id": "abc92110",
   "metadata": {},
   "source": [
    "## 5.\tWrite a Python program to swap two variables without temp variable?"
   ]
  },
  {
   "cell_type": "code",
   "execution_count": 13,
   "id": "fed978c8",
   "metadata": {},
   "outputs": [
    {
     "name": "stdout",
     "output_type": "stream",
     "text": [
      "Value of x: 54\n",
      "Value of y: 23\n"
     ]
    }
   ],
   "source": [
    "x = 23\n",
    "y = 54\n",
    "x, y = y,x\n",
    "print(f\"Value of x: {x}\")\n",
    "print(f\"Value of y: {y}\")"
   ]
  },
  {
   "cell_type": "markdown",
   "id": "dccac8de",
   "metadata": {},
   "source": [
    "## 4.\tWrite a Python program to solve quadratic equation?"
   ]
  },
  {
   "cell_type": "code",
   "execution_count": 17,
   "id": "3eab098c",
   "metadata": {},
   "outputs": [
    {
     "name": "stdout",
     "output_type": "stream",
     "text": [
      "Enter the value of a: 3\n",
      "Enter the value of  b: 5\n",
      "Enter the value of c: 6\n",
      "The solution are (-0.8333333333333334-1.1426091000668406j) and (-0.8333333333333334+1.1426091000668406j)\n"
     ]
    }
   ],
   "source": [
    "import cmath  \n",
    "a = float(input('Enter the value of a: '))  \n",
    "b = float(input('Enter the value of  b: '))  \n",
    "c = float(input('Enter the value of c: '))  \n",
    "  \n",
    "# calculate the discriminant  \n",
    "d = (b**2) - (4*a*c)  \n",
    "  \n",
    "# find two solutions  \n",
    "sol1 = (-b-cmath.sqrt(d))/(2*a)  \n",
    "sol2 = (-b+cmath.sqrt(d))/(2*a)  \n",
    "print (f\"The solution are {sol1} and {sol2}\")\n"
   ]
  },
  {
   "cell_type": "code",
   "execution_count": null,
   "id": "514c808b",
   "metadata": {},
   "outputs": [],
   "source": []
  },
  {
   "cell_type": "code",
   "execution_count": null,
   "id": "a03a0f38",
   "metadata": {},
   "outputs": [],
   "source": []
  }
 ],
 "metadata": {
  "kernelspec": {
   "display_name": "Python 3 (ipykernel)",
   "language": "python",
   "name": "python3"
  },
  "language_info": {
   "codemirror_mode": {
    "name": "ipython",
    "version": 3
   },
   "file_extension": ".py",
   "mimetype": "text/x-python",
   "name": "python",
   "nbconvert_exporter": "python",
   "pygments_lexer": "ipython3",
   "version": "3.9.12"
  }
 },
 "nbformat": 4,
 "nbformat_minor": 5
}
